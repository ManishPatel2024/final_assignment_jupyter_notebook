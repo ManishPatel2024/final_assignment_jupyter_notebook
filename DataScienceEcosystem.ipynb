{
 "cells": [
  {
   "cell_type": "markdown",
   "id": "4f068194-b6e7-45df-82cc-00414e29c719",
   "metadata": {},
   "source": [
    "# Data Science Tools and Ecosytem"
   ]
  },
  {
   "cell_type": "markdown",
   "id": "50666713-59b2-4b82-acca-437ddb4b1f32",
   "metadata": {},
   "source": [
    "## In this notebook, Data Science Tools and Ecosystem are summarized."
   ]
  },
  {
   "cell_type": "markdown",
   "id": "190e6f75-b96c-4f99-a2a9-581529ab2cb8",
   "metadata": {},
   "source": [
    "**Objectives:**\n",
    "- Create a Jupyter Notebook\n",
    "\n",
    "- Insert code and markdown cells\n",
    "\n",
    "- Share your notebook through GitHub"
   ]
  },
  {
   "cell_type": "markdown",
   "id": "979ff8f3-19b1-4d72-860a-75bc7b79a964",
   "metadata": {},
   "source": [
    "### Some of the popular languages that Data Scientists use are:\n",
    "1. Python\n",
    "2. R\n",
    "3. SQL\n",
    "4. Scala\n",
    "5. Java\n",
    "6. C++\n",
    "7. Julia"
   ]
  },
  {
   "cell_type": "markdown",
   "id": "8fccc671-5d60-45c0-86cf-8fbb602e4f2b",
   "metadata": {},
   "source": [
    "## Some of the commonly used libraries used by Data Scientists include:\n",
    "1. Matplotlib\n",
    "2. Scikit-learn\n",
    "3. TensorFlow\n",
    "4. PyTorch\n",
    "5. Seaborn\n",
    "6. Beautiful Soul"
   ]
  },
  {
   "cell_type": "markdown",
   "id": "971f788d-cfa5-4eef-9c48-8b051d8eccf7",
   "metadata": {},
   "source": [
    "| Data Science Tools |\n",
    "|---|\n",
    "| Rstudio |\n",
    "| Jupyter Notebook |\n",
    "| Apache Spark |\n",
    "| TensorFlow |"
   ]
  },
  {
   "cell_type": "markdown",
   "id": "6d510a67-26c0-4a61-9941-92990a63626f",
   "metadata": {},
   "source": [
    "### Below are a few examples of evaluating arithmetic expressions in Python\n",
    "144+(138*99)"
   ]
  },
  {
   "cell_type": "code",
   "execution_count": 36,
   "id": "2d106d68-98d3-48bd-9da0-5cebb4098f97",
   "metadata": {},
   "outputs": [
    {
     "data": {
      "text/plain": [
       "17"
      ]
     },
     "execution_count": 36,
     "metadata": {},
     "output_type": "execute_result"
    }
   ],
   "source": [
    "# This a simple arithmetic expression to mutiply then add integers\n",
    "(3*4)+5"
   ]
  },
  {
   "cell_type": "code",
   "execution_count": 38,
   "id": "d5a0b7a8-f9ba-4155-ad07-e1bc45c7a909",
   "metadata": {},
   "outputs": [
    {
     "data": {
      "text/plain": [
       "3.3333333333333335"
      ]
     },
     "execution_count": 38,
     "metadata": {},
     "output_type": "execute_result"
    }
   ],
   "source": [
    "#This will convert 200 minutes to hours by diving by 60\n",
    "200/60"
   ]
  },
  {
   "cell_type": "markdown",
   "id": "3d1e8851-a81e-4d7a-9dfd-5aa7198127c5",
   "metadata": {},
   "source": [
    "## Author\n",
    "\n",
    "Manish Patel"
   ]
  }
 ],
 "metadata": {
  "kernelspec": {
   "display_name": "Python [conda env:base] *",
   "language": "python",
   "name": "conda-base-py"
  },
  "language_info": {
   "codemirror_mode": {
    "name": "ipython",
    "version": 3
   },
   "file_extension": ".py",
   "mimetype": "text/x-python",
   "name": "python",
   "nbconvert_exporter": "python",
   "pygments_lexer": "ipython3",
   "version": "3.12.7"
  }
 },
 "nbformat": 4,
 "nbformat_minor": 5
}
